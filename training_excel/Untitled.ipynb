{
 "cells": [
  {
   "cell_type": "code",
   "execution_count": 1,
   "metadata": {},
   "outputs": [
    {
     "name": "stdout",
     "output_type": "stream",
     "text": [
      " Volume in drive D has no label.\n",
      " Volume Serial Number is 3417-05D0\n",
      "\n",
      " Directory of d:\\PythonTraining\\training_excel\n",
      "\n",
      "2020/06/06  13:19    <DIR>          .\n",
      "2020/06/06  13:19    <DIR>          ..\n",
      "2020/06/06  13:19    <DIR>          .ipynb_checkpoints\n",
      "2020/06/06  10:35            63,813 Excel_Training.ipynb\n",
      "2020/06/06  10:59             9,528 python_training.xlsx\n",
      "2020/06/06  13:19                72 Untitled.ipynb\n",
      "               3 File(s)         73,413 bytes\n",
      "               3 Dir(s)  961,833,107,456 bytes free\n"
     ]
    }
   ],
   "source": [
    "!dir"
   ]
  },
  {
   "cell_type": "code",
   "execution_count": 2,
   "metadata": {},
   "outputs": [],
   "source": [
    "import pandas as pd"
   ]
  },
  {
   "cell_type": "code",
   "execution_count": 3,
   "metadata": {},
   "outputs": [],
   "source": [
    "excel = pd.read_excel('python_training.xlsx')"
   ]
  },
  {
   "cell_type": "code",
   "execution_count": 4,
   "metadata": {},
   "outputs": [
    {
     "name": "stdout",
     "output_type": "stream",
     "text": [
      "  Unnamed: 0  National language  Arithmetic\n",
      "0     Yamada                 50          70\n",
      "1     Suzuki                 60          80\n"
     ]
    }
   ],
   "source": [
    "print(excel)"
   ]
  },
  {
   "cell_type": "code",
   "execution_count": 5,
   "metadata": {},
   "outputs": [
    {
     "data": {
      "text/plain": [
       "Index(['Unnamed: 0', 'National language', 'Arithmetic'], dtype='object')"
      ]
     },
     "execution_count": 5,
     "metadata": {},
     "output_type": "execute_result"
    }
   ],
   "source": [
    "excel.columns"
   ]
  },
  {
   "cell_type": "code",
   "execution_count": 7,
   "metadata": {},
   "outputs": [
    {
     "data": {
      "text/html": [
       "<div>\n",
       "<style scoped>\n",
       "    .dataframe tbody tr th:only-of-type {\n",
       "        vertical-align: middle;\n",
       "    }\n",
       "\n",
       "    .dataframe tbody tr th {\n",
       "        vertical-align: top;\n",
       "    }\n",
       "\n",
       "    .dataframe thead th {\n",
       "        text-align: right;\n",
       "    }\n",
       "</style>\n",
       "<table border=\"1\" class=\"dataframe\">\n",
       "  <thead>\n",
       "    <tr style=\"text-align: right;\">\n",
       "      <th></th>\n",
       "      <th>Name</th>\n",
       "      <th>National language</th>\n",
       "      <th>Arithmetic</th>\n",
       "    </tr>\n",
       "  </thead>\n",
       "  <tbody>\n",
       "    <tr>\n",
       "      <th>0</th>\n",
       "      <td>Yamada</td>\n",
       "      <td>50</td>\n",
       "      <td>70</td>\n",
       "    </tr>\n",
       "    <tr>\n",
       "      <th>1</th>\n",
       "      <td>Suzuki</td>\n",
       "      <td>60</td>\n",
       "      <td>80</td>\n",
       "    </tr>\n",
       "  </tbody>\n",
       "</table>\n",
       "</div>"
      ],
      "text/plain": [
       "     Name  National language  Arithmetic\n",
       "0  Yamada                 50          70\n",
       "1  Suzuki                 60          80"
      ]
     },
     "execution_count": 7,
     "metadata": {},
     "output_type": "execute_result"
    }
   ],
   "source": [
    "excel.rename(columns={'Unnamed: 0': 'Name'})"
   ]
  },
  {
   "cell_type": "code",
   "execution_count": 8,
   "metadata": {},
   "outputs": [
    {
     "name": "stdout",
     "output_type": "stream",
     "text": [
      "  Unnamed: 0  National language  Arithmetic\n",
      "0     Yamada                 50          70\n",
      "1     Suzuki                 60          80\n"
     ]
    }
   ],
   "source": [
    "print(excel)"
   ]
  },
  {
   "cell_type": "code",
   "execution_count": 9,
   "metadata": {},
   "outputs": [
    {
     "name": "stdout",
     "output_type": "stream",
     "text": [
      "     Name  National language  Arithmetic\n",
      "0  Yamada                 50          70\n",
      "1  Suzuki                 60          80\n"
     ]
    }
   ],
   "source": [
    "excel2 = excel.rename(columns={'Unnamed: 0': 'Name'})\n",
    "print(excel2)"
   ]
  },
  {
   "cell_type": "code",
   "execution_count": 10,
   "metadata": {},
   "outputs": [
    {
     "name": "stdout",
     "output_type": "stream",
     "text": [
      "     Name  National language  Arithmetic\n",
      "0  Yamada                 50          70\n",
      "1  Suzuki                 60          80\n"
     ]
    }
   ],
   "source": [
    "print(excel2)"
   ]
  },
  {
   "cell_type": "code",
   "execution_count": 16,
   "metadata": {},
   "outputs": [],
   "source": [
    "excel2 = excel2.set_index('Name')"
   ]
  },
  {
   "cell_type": "code",
   "execution_count": 17,
   "metadata": {},
   "outputs": [
    {
     "data": {
      "text/html": [
       "<div>\n",
       "<style scoped>\n",
       "    .dataframe tbody tr th:only-of-type {\n",
       "        vertical-align: middle;\n",
       "    }\n",
       "\n",
       "    .dataframe tbody tr th {\n",
       "        vertical-align: top;\n",
       "    }\n",
       "\n",
       "    .dataframe thead th {\n",
       "        text-align: right;\n",
       "    }\n",
       "</style>\n",
       "<table border=\"1\" class=\"dataframe\">\n",
       "  <thead>\n",
       "    <tr style=\"text-align: right;\">\n",
       "      <th></th>\n",
       "      <th>National language</th>\n",
       "      <th>Arithmetic</th>\n",
       "    </tr>\n",
       "    <tr>\n",
       "      <th>Name</th>\n",
       "      <th></th>\n",
       "      <th></th>\n",
       "    </tr>\n",
       "  </thead>\n",
       "  <tbody>\n",
       "    <tr>\n",
       "      <th>Yamada</th>\n",
       "      <td>50</td>\n",
       "      <td>70</td>\n",
       "    </tr>\n",
       "    <tr>\n",
       "      <th>Suzuki</th>\n",
       "      <td>60</td>\n",
       "      <td>80</td>\n",
       "    </tr>\n",
       "  </tbody>\n",
       "</table>\n",
       "</div>"
      ],
      "text/plain": [
       "        National language  Arithmetic\n",
       "Name                                 \n",
       "Yamada                 50          70\n",
       "Suzuki                 60          80"
      ]
     },
     "execution_count": 17,
     "metadata": {},
     "output_type": "execute_result"
    }
   ],
   "source": [
    "excel2"
   ]
  },
  {
   "cell_type": "code",
   "execution_count": 18,
   "metadata": {},
   "outputs": [
    {
     "data": {
      "text/plain": [
       "National language    50\n",
       "Arithmetic           70\n",
       "Name: Yamada, dtype: int64"
      ]
     },
     "execution_count": 18,
     "metadata": {},
     "output_type": "execute_result"
    }
   ],
   "source": [
    "excel2.loc['Yamada']"
   ]
  },
  {
   "cell_type": "code",
   "execution_count": 19,
   "metadata": {},
   "outputs": [
    {
     "data": {
      "text/plain": [
       "Name\n",
       "Yamada    50\n",
       "Suzuki    60\n",
       "Name: National language, dtype: int64"
      ]
     },
     "execution_count": 19,
     "metadata": {},
     "output_type": "execute_result"
    }
   ],
   "source": [
    "excel2['National language']"
   ]
  },
  {
   "cell_type": "code",
   "execution_count": 21,
   "metadata": {},
   "outputs": [
    {
     "data": {
      "text/plain": [
       "Name\n",
       "Yamada    50\n",
       "Suzuki    60\n",
       "Name: National language, dtype: int64"
      ]
     },
     "execution_count": 21,
     "metadata": {},
     "output_type": "execute_result"
    }
   ],
   "source": [
    "excel2.loc[:, 'National language']"
   ]
  },
  {
   "cell_type": "code",
   "execution_count": 22,
   "metadata": {},
   "outputs": [
    {
     "data": {
      "text/plain": [
       "pandas.core.frame.DataFrame"
      ]
     },
     "execution_count": 22,
     "metadata": {},
     "output_type": "execute_result"
    }
   ],
   "source": [
    "type(excel2)"
   ]
  },
  {
   "cell_type": "code",
   "execution_count": 23,
   "metadata": {},
   "outputs": [
    {
     "data": {
      "text/html": [
       "<div>\n",
       "<style scoped>\n",
       "    .dataframe tbody tr th:only-of-type {\n",
       "        vertical-align: middle;\n",
       "    }\n",
       "\n",
       "    .dataframe tbody tr th {\n",
       "        vertical-align: top;\n",
       "    }\n",
       "\n",
       "    .dataframe thead th {\n",
       "        text-align: right;\n",
       "    }\n",
       "</style>\n",
       "<table border=\"1\" class=\"dataframe\">\n",
       "  <thead>\n",
       "    <tr style=\"text-align: right;\">\n",
       "      <th></th>\n",
       "      <th>National language</th>\n",
       "      <th>Arithmetic</th>\n",
       "    </tr>\n",
       "    <tr>\n",
       "      <th>Name</th>\n",
       "      <th></th>\n",
       "      <th></th>\n",
       "    </tr>\n",
       "  </thead>\n",
       "  <tbody>\n",
       "    <tr>\n",
       "      <th>Yamada</th>\n",
       "      <td>50</td>\n",
       "      <td>70</td>\n",
       "    </tr>\n",
       "    <tr>\n",
       "      <th>Suzuki</th>\n",
       "      <td>60</td>\n",
       "      <td>80</td>\n",
       "    </tr>\n",
       "  </tbody>\n",
       "</table>\n",
       "</div>"
      ],
      "text/plain": [
       "        National language  Arithmetic\n",
       "Name                                 \n",
       "Yamada                 50          70\n",
       "Suzuki                 60          80"
      ]
     },
     "execution_count": 23,
     "metadata": {},
     "output_type": "execute_result"
    }
   ],
   "source": [
    "excel2.loc[:, :]"
   ]
  },
  {
   "cell_type": "code",
   "execution_count": 24,
   "metadata": {},
   "outputs": [
    {
     "data": {
      "text/plain": [
       "50"
      ]
     },
     "execution_count": 24,
     "metadata": {},
     "output_type": "execute_result"
    }
   ],
   "source": [
    "excel2.loc['Yamada', 'National language']"
   ]
  },
  {
   "cell_type": "code",
   "execution_count": 26,
   "metadata": {},
   "outputs": [
    {
     "data": {
      "text/html": [
       "<div>\n",
       "<style scoped>\n",
       "    .dataframe tbody tr th:only-of-type {\n",
       "        vertical-align: middle;\n",
       "    }\n",
       "\n",
       "    .dataframe tbody tr th {\n",
       "        vertical-align: top;\n",
       "    }\n",
       "\n",
       "    .dataframe thead th {\n",
       "        text-align: right;\n",
       "    }\n",
       "</style>\n",
       "<table border=\"1\" class=\"dataframe\">\n",
       "  <thead>\n",
       "    <tr style=\"text-align: right;\">\n",
       "      <th></th>\n",
       "      <th>National language</th>\n",
       "      <th>Arithmetic</th>\n",
       "    </tr>\n",
       "    <tr>\n",
       "      <th>Name</th>\n",
       "      <th></th>\n",
       "      <th></th>\n",
       "    </tr>\n",
       "  </thead>\n",
       "  <tbody>\n",
       "    <tr>\n",
       "      <th>Yamada</th>\n",
       "      <td>50</td>\n",
       "      <td>70</td>\n",
       "    </tr>\n",
       "    <tr>\n",
       "      <th>Suzuki</th>\n",
       "      <td>60</td>\n",
       "      <td>80</td>\n",
       "    </tr>\n",
       "  </tbody>\n",
       "</table>\n",
       "</div>"
      ],
      "text/plain": [
       "        National language  Arithmetic\n",
       "Name                                 \n",
       "Yamada                 50          70\n",
       "Suzuki                 60          80"
      ]
     },
     "execution_count": 26,
     "metadata": {},
     "output_type": "execute_result"
    }
   ],
   "source": [
    "excel2.loc['Yamada':'Suzuki', :]"
   ]
  },
  {
   "cell_type": "code",
   "execution_count": 28,
   "metadata": {},
   "outputs": [
    {
     "data": {
      "text/html": [
       "<div>\n",
       "<style scoped>\n",
       "    .dataframe tbody tr th:only-of-type {\n",
       "        vertical-align: middle;\n",
       "    }\n",
       "\n",
       "    .dataframe tbody tr th {\n",
       "        vertical-align: top;\n",
       "    }\n",
       "\n",
       "    .dataframe thead th {\n",
       "        text-align: right;\n",
       "    }\n",
       "</style>\n",
       "<table border=\"1\" class=\"dataframe\">\n",
       "  <thead>\n",
       "    <tr style=\"text-align: right;\">\n",
       "      <th></th>\n",
       "      <th>National language</th>\n",
       "      <th>Arithmetic</th>\n",
       "    </tr>\n",
       "    <tr>\n",
       "      <th>Name</th>\n",
       "      <th></th>\n",
       "      <th></th>\n",
       "    </tr>\n",
       "  </thead>\n",
       "  <tbody>\n",
       "    <tr>\n",
       "      <th>Yamada</th>\n",
       "      <td>50</td>\n",
       "      <td>70</td>\n",
       "    </tr>\n",
       "    <tr>\n",
       "      <th>Suzuki</th>\n",
       "      <td>60</td>\n",
       "      <td>80</td>\n",
       "    </tr>\n",
       "  </tbody>\n",
       "</table>\n",
       "</div>"
      ],
      "text/plain": [
       "        National language  Arithmetic\n",
       "Name                                 \n",
       "Yamada                 50          70\n",
       "Suzuki                 60          80"
      ]
     },
     "execution_count": 28,
     "metadata": {},
     "output_type": "execute_result"
    }
   ],
   "source": [
    "excel2.iloc[0:, :]"
   ]
  },
  {
   "cell_type": "code",
   "execution_count": 29,
   "metadata": {},
   "outputs": [
    {
     "data": {
      "text/html": [
       "<div>\n",
       "<style scoped>\n",
       "    .dataframe tbody tr th:only-of-type {\n",
       "        vertical-align: middle;\n",
       "    }\n",
       "\n",
       "    .dataframe tbody tr th {\n",
       "        vertical-align: top;\n",
       "    }\n",
       "\n",
       "    .dataframe thead th {\n",
       "        text-align: right;\n",
       "    }\n",
       "</style>\n",
       "<table border=\"1\" class=\"dataframe\">\n",
       "  <thead>\n",
       "    <tr style=\"text-align: right;\">\n",
       "      <th></th>\n",
       "      <th>National language</th>\n",
       "      <th>Arithmetic</th>\n",
       "    </tr>\n",
       "    <tr>\n",
       "      <th>Name</th>\n",
       "      <th></th>\n",
       "      <th></th>\n",
       "    </tr>\n",
       "  </thead>\n",
       "  <tbody>\n",
       "    <tr>\n",
       "      <th>Suzuki</th>\n",
       "      <td>60</td>\n",
       "      <td>80</td>\n",
       "    </tr>\n",
       "  </tbody>\n",
       "</table>\n",
       "</div>"
      ],
      "text/plain": [
       "        National language  Arithmetic\n",
       "Name                                 \n",
       "Suzuki                 60          80"
      ]
     },
     "execution_count": 29,
     "metadata": {},
     "output_type": "execute_result"
    }
   ],
   "source": [
    "excel2[excel2['National language'] > 50]"
   ]
  },
  {
   "cell_type": "code",
   "execution_count": 30,
   "metadata": {},
   "outputs": [
    {
     "data": {
      "text/plain": [
       "Name\n",
       "Yamada    False\n",
       "Suzuki     True\n",
       "Name: National language, dtype: bool"
      ]
     },
     "execution_count": 30,
     "metadata": {},
     "output_type": "execute_result"
    }
   ],
   "source": [
    "excel2['National language'] > 50"
   ]
  },
  {
   "cell_type": "code",
   "execution_count": 37,
   "metadata": {},
   "outputs": [
    {
     "data": {
      "text/plain": [
       "Name\n",
       "Yamada    120\n",
       "Suzuki    140\n",
       "dtype: int64"
      ]
     },
     "execution_count": 37,
     "metadata": {},
     "output_type": "execute_result"
    }
   ],
   "source": [
    "excel2.sum(axis=1)"
   ]
  },
  {
   "cell_type": "code",
   "execution_count": 38,
   "metadata": {},
   "outputs": [
    {
     "data": {
      "text/plain": [
       "260"
      ]
     },
     "execution_count": 38,
     "metadata": {},
     "output_type": "execute_result"
    }
   ],
   "source": [
    "excel2.sum(axis=1).sum()"
   ]
  },
  {
   "cell_type": "code",
   "execution_count": 41,
   "metadata": {},
   "outputs": [
    {
     "data": {
      "text/plain": [
       "Name\n",
       "Yamada    60.0\n",
       "Suzuki    70.0\n",
       "dtype: float64"
      ]
     },
     "execution_count": 41,
     "metadata": {},
     "output_type": "execute_result"
    }
   ],
   "source": [
    "excel2.mean(axis=1)"
   ]
  },
  {
   "cell_type": "code",
   "execution_count": 42,
   "metadata": {},
   "outputs": [
    {
     "data": {
      "text/html": [
       "<div>\n",
       "<style scoped>\n",
       "    .dataframe tbody tr th:only-of-type {\n",
       "        vertical-align: middle;\n",
       "    }\n",
       "\n",
       "    .dataframe tbody tr th {\n",
       "        vertical-align: top;\n",
       "    }\n",
       "\n",
       "    .dataframe thead th {\n",
       "        text-align: right;\n",
       "    }\n",
       "</style>\n",
       "<table border=\"1\" class=\"dataframe\">\n",
       "  <thead>\n",
       "    <tr style=\"text-align: right;\">\n",
       "      <th></th>\n",
       "      <th>National language</th>\n",
       "      <th>Arithmetic</th>\n",
       "    </tr>\n",
       "  </thead>\n",
       "  <tbody>\n",
       "    <tr>\n",
       "      <th>count</th>\n",
       "      <td>2.000000</td>\n",
       "      <td>2.000000</td>\n",
       "    </tr>\n",
       "    <tr>\n",
       "      <th>mean</th>\n",
       "      <td>55.000000</td>\n",
       "      <td>75.000000</td>\n",
       "    </tr>\n",
       "    <tr>\n",
       "      <th>std</th>\n",
       "      <td>7.071068</td>\n",
       "      <td>7.071068</td>\n",
       "    </tr>\n",
       "    <tr>\n",
       "      <th>min</th>\n",
       "      <td>50.000000</td>\n",
       "      <td>70.000000</td>\n",
       "    </tr>\n",
       "    <tr>\n",
       "      <th>25%</th>\n",
       "      <td>52.500000</td>\n",
       "      <td>72.500000</td>\n",
       "    </tr>\n",
       "    <tr>\n",
       "      <th>50%</th>\n",
       "      <td>55.000000</td>\n",
       "      <td>75.000000</td>\n",
       "    </tr>\n",
       "    <tr>\n",
       "      <th>75%</th>\n",
       "      <td>57.500000</td>\n",
       "      <td>77.500000</td>\n",
       "    </tr>\n",
       "    <tr>\n",
       "      <th>max</th>\n",
       "      <td>60.000000</td>\n",
       "      <td>80.000000</td>\n",
       "    </tr>\n",
       "  </tbody>\n",
       "</table>\n",
       "</div>"
      ],
      "text/plain": [
       "       National language  Arithmetic\n",
       "count           2.000000    2.000000\n",
       "mean           55.000000   75.000000\n",
       "std             7.071068    7.071068\n",
       "min            50.000000   70.000000\n",
       "25%            52.500000   72.500000\n",
       "50%            55.000000   75.000000\n",
       "75%            57.500000   77.500000\n",
       "max            60.000000   80.000000"
      ]
     },
     "execution_count": 42,
     "metadata": {},
     "output_type": "execute_result"
    }
   ],
   "source": [
    "excel2.describe()"
   ]
  },
  {
   "cell_type": "code",
   "execution_count": 43,
   "metadata": {},
   "outputs": [],
   "source": [
    "excel_multi = pd.read_excel('python_training.xlsx', sheet_name=['table', 'rawdata'])"
   ]
  },
  {
   "cell_type": "code",
   "execution_count": 44,
   "metadata": {},
   "outputs": [
    {
     "name": "stdout",
     "output_type": "stream",
     "text": [
      "{'table':   Unnamed: 0  National language  Arithmetic\n",
      "0     Yamada                 50          70\n",
      "1     Suzuki                 60          80, 'rawdata':      Name            Subject  Score\n",
      "0  Yamada  National language     50\n",
      "1  Yamada         Arithmetic     70\n",
      "2  Suzuki  National language     60\n",
      "3  Suzuki         Arithmetic     80}\n"
     ]
    }
   ],
   "source": [
    "print(excel_multi)"
   ]
  },
  {
   "cell_type": "code",
   "execution_count": 45,
   "metadata": {},
   "outputs": [
    {
     "data": {
      "text/plain": [
       "dict"
      ]
     },
     "execution_count": 45,
     "metadata": {},
     "output_type": "execute_result"
    }
   ],
   "source": [
    "type(excel_multi)"
   ]
  },
  {
   "cell_type": "code",
   "execution_count": 46,
   "metadata": {},
   "outputs": [
    {
     "name": "stdout",
     "output_type": "stream",
     "text": [
      "  Unnamed: 0  National language  Arithmetic\n",
      "0     Yamada                 50          70\n",
      "1     Suzuki                 60          80\n"
     ]
    }
   ],
   "source": [
    "print(excel_multi['table'])"
   ]
  },
  {
   "cell_type": "code",
   "execution_count": 47,
   "metadata": {},
   "outputs": [],
   "source": [
    "dict2 = {'name': 'yanai', 'sex': 'man'}"
   ]
  },
  {
   "cell_type": "code",
   "execution_count": 48,
   "metadata": {},
   "outputs": [
    {
     "name": "stdout",
     "output_type": "stream",
     "text": [
      "{'name': 'yanai', 'sex': 'man'}\n"
     ]
    }
   ],
   "source": [
    "print(dict2)"
   ]
  },
  {
   "cell_type": "code",
   "execution_count": 57,
   "metadata": {},
   "outputs": [
    {
     "name": "stdout",
     "output_type": "stream",
     "text": [
      "man\n"
     ]
    }
   ],
   "source": [
    "print(dict2['sex'])"
   ]
  },
  {
   "cell_type": "code",
   "execution_count": 58,
   "metadata": {},
   "outputs": [
    {
     "data": {
      "text/plain": [
       "pandas.core.frame.DataFrame"
      ]
     },
     "execution_count": 58,
     "metadata": {},
     "output_type": "execute_result"
    }
   ],
   "source": [
    "type(excel_multi['table'])"
   ]
  },
  {
   "cell_type": "code",
   "execution_count": 54,
   "metadata": {},
   "outputs": [],
   "source": [
    "array2 = ['yanai', 'ura']"
   ]
  },
  {
   "cell_type": "code",
   "execution_count": 55,
   "metadata": {},
   "outputs": [
    {
     "name": "stdout",
     "output_type": "stream",
     "text": [
      "yanai\n"
     ]
    }
   ],
   "source": [
    "print(array2[0])"
   ]
  },
  {
   "cell_type": "code",
   "execution_count": 59,
   "metadata": {},
   "outputs": [
    {
     "name": "stdout",
     "output_type": "stream",
     "text": [
      "        National language  Arithmetic\n",
      "Name                                 \n",
      "Yamada                 50          70\n",
      "Suzuki                 60          80\n"
     ]
    }
   ],
   "source": [
    "print(excel2)"
   ]
  },
  {
   "cell_type": "code",
   "execution_count": 61,
   "metadata": {},
   "outputs": [
    {
     "name": "stdout",
     "output_type": "stream",
     "text": [
      "Index(['Yamada', 'Suzuki'], dtype='object', name='Name')\n"
     ]
    }
   ],
   "source": [
    "print(excel2.index)"
   ]
  },
  {
   "cell_type": "code",
   "execution_count": 62,
   "metadata": {},
   "outputs": [
    {
     "name": "stdout",
     "output_type": "stream",
     "text": [
      "Index(['National language', 'Arithmetic'], dtype='object')\n"
     ]
    }
   ],
   "source": [
    "print(excel2.columns)"
   ]
  },
  {
   "cell_type": "code",
   "execution_count": 63,
   "metadata": {},
   "outputs": [],
   "source": [
    "import matplotlib.pyplot as plt"
   ]
  },
  {
   "cell_type": "code",
   "execution_count": 64,
   "metadata": {},
   "outputs": [],
   "source": [
    "%matplotlib inline"
   ]
  },
  {
   "cell_type": "code",
   "execution_count": 66,
   "metadata": {},
   "outputs": [
    {
     "data": {
      "text/plain": [
       "<matplotlib.axes._subplots.AxesSubplot at 0x1db95cb3688>"
      ]
     },
     "execution_count": 66,
     "metadata": {},
     "output_type": "execute_result"
    },
    {
     "data": {
      "image/png": "[encoded data removed]",
      "text/plain": [
       "<Figure size 432x288 with 1 Axes>"
      ]
     },
     "metadata": {
      "needs_background": "light"
     },
     "output_type": "display_data"
    }
   ],
   "source": [
    "excel2.plot.bar()"
   ]
  },
  {
   "cell_type": "code",
   "execution_count": 67,
   "metadata": {},
   "outputs": [],
   "source": [
    "import seaborn as sns"
   ]
  },
  {
   "cell_type": "code",
   "execution_count": 68,
   "metadata": {},
   "outputs": [
    {
     "data": {
      "text/plain": [
       "<seaborn.axisgrid.PairGrid at 0x1db997b1788>"
      ]
     },
     "execution_count": 68,
     "metadata": {},
     "output_type": "execute_result"
    },
    {
     "data": {
      "image/png": "[encoded data removed]",
      "text/plain": [
       "<Figure size 360x360 with 6 Axes>"
      ]
     },
     "metadata": {
      "needs_background": "light"
     },
     "output_type": "display_data"
    }
   ],
   "source": [
    "sns.pairplot(data=excel2)"
   ]
  },
  {
   "cell_type": "code",
   "execution_count": 79,
   "metadata": {},
   "outputs": [
    {
     "data": {
      "text/plain": [
       "<matplotlib.axes._subplots.AxesSubplot at 0x1db99fd20c8>"
      ]
     },
     "execution_count": 79,
     "metadata": {},
     "output_type": "execute_result"
    },
    {
     "data": {
      "image/png": "[encoded data removed]",
      "text/plain": [
       "<Figure size 432x288 with 1 Axes>"
      ]
     },
     "metadata": {
      "needs_background": "light"
     },
     "output_type": "display_data"
    }
   ],
   "source": [
    "excel2.plot.bar(stacked=True, cmap='autumn')"
   ]
  },
  {
   "cell_type": "code",
   "execution_count": 80,
   "metadata": {},
   "outputs": [],
   "source": [
    "# Colormap red is not recognized. Possible values are: Accent, Accent_r, Blues, Blues_r, BrBG, BrBG_r, BuGn, BuGn_r, BuPu, BuPu_r, CMRmap, CMRmap_r, Dark2, Dark2_r, GnBu, GnBu_r, Greens, Greens_r, Greys, Greys_r, OrRd, OrRd_r, Oranges, Oranges_r, PRGn, PRGn_r, Paired, Paired_r, Pastel1, Pastel1_r, Pastel2, Pastel2_r, PiYG, PiYG_r, PuBu, PuBuGn, PuBuGn_r, PuBu_r, PuOr, PuOr_r, PuRd, PuRd_r, Purples, Purples_r, RdBu, RdBu_r, RdGy, RdGy_r, RdPu, RdPu_r, RdYlBu, RdYlBu_r, RdYlGn, RdYlGn_r, Reds, Reds_r, Set1, Set1_r, Set2, Set2_r, Set3, Set3_r, Spectral, Spectral_r, Wistia, Wistia_r, YlGn, YlGnBu, YlGnBu_r, YlGn_r, YlOrBr, YlOrBr_r, YlOrRd, YlOrRd_r, afmhot, afmhot_r, autumn, autumn_r, binary, binary_r, bone, bone_r, brg, brg_r, bwr, bwr_r, cividis, cividis_r, cool, cool_r, coolwarm, coolwarm_r, copper, copper_r, cubehelix, cubehelix_r, flag, flag_r, gist_earth, gist_earth_r, gist_gray, gist_gray_r, gist_heat, gist_heat_r, gist_ncar, gist_ncar_r, gist_rainbow, gist_rainbow_r, gist_stern, gist_stern_r, gist_yarg, gist_yarg_r, gnuplot, gnuplot2, gnuplot2_r, gnuplot_r, gray, gray_r, hot, hot_r, hsv, hsv_r, icefire, icefire_r, inferno, inferno_r, jet, jet_r, magma, magma_r, mako, mako_r, nipy_spectral, nipy_spectral_r, ocean, ocean_r, pink, pink_r, plasma, plasma_r, prism, prism_r, rainbow, rainbow_r, rocket, rocket_r, seismic, seismic_r, spring, spring_r, summer, summer_r, tab10, tab10_r, tab20, tab20_r, tab20b, tab20b_r, tab20c, tab20c_r, terrain, terrain_r, twilight, twilight_r, twilight_shifted, twilight_shifted_r, viridis, viridis_r, vlag, vlag_r, winter, winter_r"
   ]
  },
  {
   "cell_type": "code",
   "execution_count": 81,
   "metadata": {},
   "outputs": [],
   "source": [
    "excel_raw = excel_multi['rawdata']"
   ]
  },
  {
   "cell_type": "code",
   "execution_count": 82,
   "metadata": {},
   "outputs": [
    {
     "name": "stdout",
     "output_type": "stream",
     "text": [
      "     Name            Subject  Score\n",
      "0  Yamada  National language     50\n",
      "1  Yamada         Arithmetic     70\n",
      "2  Suzuki  National language     60\n",
      "3  Suzuki         Arithmetic     80\n"
     ]
    }
   ],
   "source": [
    "print(excel_raw)"
   ]
  },
  {
   "cell_type": "code",
   "execution_count": 83,
   "metadata": {},
   "outputs": [
    {
     "data": {
      "text/html": [
       "<div>\n",
       "<style scoped>\n",
       "    .dataframe tbody tr th:only-of-type {\n",
       "        vertical-align: middle;\n",
       "    }\n",
       "\n",
       "    .dataframe tbody tr th {\n",
       "        vertical-align: top;\n",
       "    }\n",
       "\n",
       "    .dataframe thead th {\n",
       "        text-align: right;\n",
       "    }\n",
       "</style>\n",
       "<table border=\"1\" class=\"dataframe\">\n",
       "  <thead>\n",
       "    <tr style=\"text-align: right;\">\n",
       "      <th>Subject</th>\n",
       "      <th>Arithmetic</th>\n",
       "      <th>National language</th>\n",
       "    </tr>\n",
       "    <tr>\n",
       "      <th>Name</th>\n",
       "      <th></th>\n",
       "      <th></th>\n",
       "    </tr>\n",
       "  </thead>\n",
       "  <tbody>\n",
       "    <tr>\n",
       "      <th>Suzuki</th>\n",
       "      <td>80</td>\n",
       "      <td>60</td>\n",
       "    </tr>\n",
       "    <tr>\n",
       "      <th>Yamada</th>\n",
       "      <td>70</td>\n",
       "      <td>50</td>\n",
       "    </tr>\n",
       "  </tbody>\n",
       "</table>\n",
       "</div>"
      ],
      "text/plain": [
       "Subject  Arithmetic  National language\n",
       "Name                                  \n",
       "Suzuki           80                 60\n",
       "Yamada           70                 50"
      ]
     },
     "execution_count": 83,
     "metadata": {},
     "output_type": "execute_result"
    }
   ],
   "source": [
    "pd.pivot_table(excel_raw, index='Name', columns='Subject', values='Score')"
   ]
  },
  {
   "cell_type": "code",
   "execution_count": 93,
   "metadata": {},
   "outputs": [
    {
     "data": {
      "text/html": [
       "<div>\n",
       "<style scoped>\n",
       "    .dataframe tbody tr th:only-of-type {\n",
       "        vertical-align: middle;\n",
       "    }\n",
       "\n",
       "    .dataframe tbody tr th {\n",
       "        vertical-align: top;\n",
       "    }\n",
       "\n",
       "    .dataframe thead tr th {\n",
       "        text-align: left;\n",
       "    }\n",
       "\n",
       "    .dataframe thead tr:last-of-type th {\n",
       "        text-align: right;\n",
       "    }\n",
       "</style>\n",
       "<table border=\"1\" class=\"dataframe\">\n",
       "  <thead>\n",
       "    <tr>\n",
       "      <th></th>\n",
       "      <th colspan=\"3\" halign=\"left\">sum</th>\n",
       "      <th colspan=\"3\" halign=\"left\">mean</th>\n",
       "    </tr>\n",
       "    <tr>\n",
       "      <th>Subject</th>\n",
       "      <th>Arithmetic</th>\n",
       "      <th>National language</th>\n",
       "      <th>All</th>\n",
       "      <th>Arithmetic</th>\n",
       "      <th>National language</th>\n",
       "      <th>All</th>\n",
       "    </tr>\n",
       "    <tr>\n",
       "      <th>Name</th>\n",
       "      <th></th>\n",
       "      <th></th>\n",
       "      <th></th>\n",
       "      <th></th>\n",
       "      <th></th>\n",
       "      <th></th>\n",
       "    </tr>\n",
       "  </thead>\n",
       "  <tbody>\n",
       "    <tr>\n",
       "      <th>Suzuki</th>\n",
       "      <td>80</td>\n",
       "      <td>60</td>\n",
       "      <td>140</td>\n",
       "      <td>80</td>\n",
       "      <td>60</td>\n",
       "      <td>70</td>\n",
       "    </tr>\n",
       "    <tr>\n",
       "      <th>Yamada</th>\n",
       "      <td>70</td>\n",
       "      <td>50</td>\n",
       "      <td>120</td>\n",
       "      <td>70</td>\n",
       "      <td>50</td>\n",
       "      <td>60</td>\n",
       "    </tr>\n",
       "    <tr>\n",
       "      <th>All</th>\n",
       "      <td>150</td>\n",
       "      <td>110</td>\n",
       "      <td>260</td>\n",
       "      <td>75</td>\n",
       "      <td>55</td>\n",
       "      <td>65</td>\n",
       "    </tr>\n",
       "  </tbody>\n",
       "</table>\n",
       "</div>"
      ],
      "text/plain": [
       "               sum                              mean                      \n",
       "Subject Arithmetic National language  All Arithmetic National language All\n",
       "Name                                                                      \n",
       "Suzuki          80                60  140         80                60  70\n",
       "Yamada          70                50  120         70                50  60\n",
       "All            150               110  260         75                55  65"
      ]
     },
     "execution_count": 93,
     "metadata": {},
     "output_type": "execute_result"
    }
   ],
   "source": [
    "pd.pivot_table(excel_raw, index='Name', columns='Subject', values='Score', margins=True, aggfunc=['sum', 'mean'])"
   ]
  },
  {
   "cell_type": "code",
   "execution_count": 94,
   "metadata": {},
   "outputs": [],
   "source": [
    "import seaborn as sns"
   ]
  },
  {
   "cell_type": "code",
   "execution_count": 95,
   "metadata": {},
   "outputs": [],
   "source": [
    "sns.set()"
   ]
  },
  {
   "cell_type": "code",
   "execution_count": 96,
   "metadata": {},
   "outputs": [
    {
     "name": "stdout",
     "output_type": "stream",
     "text": [
      "        National language  Arithmetic\n",
      "Name                                 \n",
      "Yamada                 50          70\n",
      "Suzuki                 60          80\n"
     ]
    }
   ],
   "source": [
    "print(excel2)"
   ]
  },
  {
   "cell_type": "code",
   "execution_count": 98,
   "metadata": {},
   "outputs": [
    {
     "data": {
      "text/plain": [
       "<matplotlib.axes._subplots.AxesSubplot at 0x1db99488608>"
      ]
     },
     "execution_count": 98,
     "metadata": {},
     "output_type": "execute_result"
    },
    {
     "data": {
      "image/png": "[encoded data removed]",
      "text/plain": [
       "<Figure size 432x288 with 1 Axes>"
      ]
     },
     "metadata": {},
     "output_type": "display_data"
    }
   ],
   "source": [
    "excel2.plot.bar(stacked=True)"
   ]
  },
  {
   "cell_type": "code",
   "execution_count": 100,
   "metadata": {},
   "outputs": [
    {
     "data": {
      "text/plain": [
       "<matplotlib.axes._subplots.AxesSubplot at 0x1db9b1ef2c8>"
      ]
     },
     "execution_count": 100,
     "metadata": {},
     "output_type": "execute_result"
    },
    {
     "data": {
      "image/png": "[encoded data removed]",
      "text/plain": [
       "<Figure size 432x288 with 1 Axes>"
      ]
     },
     "metadata": {},
     "output_type": "display_data"
    }
   ],
   "source": [
    "excel2.plot.hist()"
   ]
  },
  {
   "cell_type": "code",
   "execution_count": 108,
   "metadata": {},
   "outputs": [
    {
     "data": {
      "text/plain": [
       "<matplotlib.axes._subplots.AxesSubplot at 0x1db9b3caa48>"
      ]
     },
     "execution_count": 108,
     "metadata": {},
     "output_type": "execute_result"
    },
    {
     "data": {
      "image/png": "[encoded data removed]",
      "text/plain": [
       "<Figure size 432x288 with 1 Axes>"
      ]
     },
     "metadata": {},
     "output_type": "display_data"
    }
   ],
   "source": [
    "sns.countplot(data=excel_raw, x='Subject', hue='Name')"
   ]
  },
  {
   "cell_type": "code",
   "execution_count": 109,
   "metadata": {},
   "outputs": [
    {
     "data": {
      "text/plain": [
       "<seaborn.axisgrid.PairGrid at 0x1db9b454f48>"
      ]
     },
     "execution_count": 109,
     "metadata": {},
     "output_type": "execute_result"
    },
    {
     "data": {
      "image/png": "[encoded data removed]",
      "text/plain": [
       "<Figure size 180x180 with 2 Axes>"
      ]
     },
     "metadata": {},
     "output_type": "display_data"
    }
   ],
   "source": [
    "sns.pairplot(data=excel_raw)"
   ]
  },
  {
   "cell_type": "code",
   "execution_count": 114,
   "metadata": {},
   "outputs": [
    {
     "data": {
      "text/plain": [
       "<seaborn.axisgrid.PairGrid at 0x1db9b62c908>"
      ]
     },
     "execution_count": 114,
     "metadata": {},
     "output_type": "execute_result"
    },
    {
     "data": {
      "image/png": "[encoded data removed]",
      "text/plain": [
       "<Figure size 260.725x180 with 2 Axes>"
      ]
     },
     "metadata": {},
     "output_type": "display_data"
    }
   ],
   "source": [
    "sns.pairplot(data=excel_raw, hue='Name')"
   ]
  },
  {
   "cell_type": "code",
   "execution_count": 115,
   "metadata": {},
   "outputs": [],
   "source": [
    "aa = pd.pivot_table(excel_raw, index='Name', columns='Subject', values='Score', margins=True, aggfunc=['sum', 'mean'])"
   ]
  },
  {
   "cell_type": "code",
   "execution_count": 116,
   "metadata": {},
   "outputs": [
    {
     "name": "stdout",
     "output_type": "stream",
     "text": [
      "               sum                              mean                      \n",
      "Subject Arithmetic National language  All Arithmetic National language All\n",
      "Name                                                                      \n",
      "Suzuki          80                60  140         80                60  70\n",
      "Yamada          70                50  120         70                50  60\n",
      "All            150               110  260         75                55  65\n"
     ]
    }
   ],
   "source": [
    "print(aa)"
   ]
  },
  {
   "cell_type": "code",
   "execution_count": 117,
   "metadata": {},
   "outputs": [],
   "source": [
    "aa.to_excel('test.xlsx')"
   ]
  },
  {
   "cell_type": "code",
   "execution_count": null,
   "metadata": {},
   "outputs": [],
   "source": [
    "bb = pd.read_csv('test.csv')"
   ]
  },
  {
   "cell_type": "code",
   "execution_count": 121,
   "metadata": {},
   "outputs": [],
   "source": [
    "bb = pd.read_clipboard()"
   ]
  },
  {
   "cell_type": "code",
   "execution_count": 122,
   "metadata": {},
   "outputs": [
    {
     "data": {
      "text/html": [
       "<div>\n",
       "<style scoped>\n",
       "    .dataframe tbody tr th:only-of-type {\n",
       "        vertical-align: middle;\n",
       "    }\n",
       "\n",
       "    .dataframe tbody tr th {\n",
       "        vertical-align: top;\n",
       "    }\n",
       "\n",
       "    .dataframe thead th {\n",
       "        text-align: right;\n",
       "    }\n",
       "</style>\n",
       "<table border=\"1\" class=\"dataframe\">\n",
       "  <thead>\n",
       "    <tr style=\"text-align: right;\">\n",
       "      <th></th>\n",
       "      <th>チーム</th>\n",
       "      <th>優勝</th>\n",
       "      <th>優勝年</th>\n",
       "      <th>プレーオフ進出</th>\n",
       "      <th>DV優勝</th>\n",
       "      <th>CNF優勝</th>\n",
       "      <th>シーズン勝敗</th>\n",
       "      <th>プレーオフ勝敗</th>\n",
       "    </tr>\n",
       "  </thead>\n",
       "  <tbody>\n",
       "    <tr>\n",
       "      <th>0</th>\n",
       "      <td>ボストン・セルティックス</td>\n",
       "      <td>17</td>\n",
       "      <td>1957,1959,1960,1961,1962,1963,1964,1965,1966,1...</td>\n",
       "      <td>NaN</td>\n",
       "      <td>None</td>\n",
       "      <td>None</td>\n",
       "      <td>None</td>\n",
       "      <td>None</td>\n",
       "    </tr>\n",
       "    <tr>\n",
       "      <th>1</th>\n",
       "      <td>1969,1974,1976,1981,1984,1986,2008</td>\n",
       "      <td>51</td>\n",
       "      <td>26</td>\n",
       "      <td>21.0</td>\n",
       "      <td>3108勝2124敗</td>\n",
       "      <td>344勝253敗</td>\n",
       "      <td>None</td>\n",
       "      <td>None</td>\n",
       "    </tr>\n",
       "    <tr>\n",
       "      <th>2</th>\n",
       "      <td>ロサンゼルス・レイカーズ</td>\n",
       "      <td>16</td>\n",
       "      <td>1949,1950,1952,1953,1954,1972,1980,1982,1985,1...</td>\n",
       "      <td>NaN</td>\n",
       "      <td>None</td>\n",
       "      <td>None</td>\n",
       "      <td>None</td>\n",
       "      <td>None</td>\n",
       "    </tr>\n",
       "    <tr>\n",
       "      <th>3</th>\n",
       "      <td>1988,2000,2001,2002,2009,2010</td>\n",
       "      <td>60</td>\n",
       "      <td>30</td>\n",
       "      <td>31.0</td>\n",
       "      <td>3170勝1953敗</td>\n",
       "      <td>440勝297敗</td>\n",
       "      <td>None</td>\n",
       "      <td>None</td>\n",
       "    </tr>\n",
       "    <tr>\n",
       "      <th>4</th>\n",
       "      <td>シカゴ・ブルズ</td>\n",
       "      <td>6</td>\n",
       "      <td>1991,1992,1993,1996,1997,1998</td>\n",
       "      <td>32.0</td>\n",
       "      <td>7</td>\n",
       "      <td>6</td>\n",
       "      <td>1975勝1830敗</td>\n",
       "      <td>177勝144敗</td>\n",
       "    </tr>\n",
       "    <tr>\n",
       "      <th>5</th>\n",
       "      <td>ゴールデンステート・ウォリアーズ</td>\n",
       "      <td>6</td>\n",
       "      <td>1947,1956,1975,2015,2017,2018</td>\n",
       "      <td>29.0</td>\n",
       "      <td>8</td>\n",
       "      <td>7</td>\n",
       "      <td>2482勝2866敗</td>\n",
       "      <td>110勝125敗</td>\n",
       "    </tr>\n",
       "    <tr>\n",
       "      <th>6</th>\n",
       "      <td>サンアントニオ・スパーズ</td>\n",
       "      <td>5</td>\n",
       "      <td>1999,2003,2005,2007,2014</td>\n",
       "      <td>33.0</td>\n",
       "      <td>19</td>\n",
       "      <td>5</td>\n",
       "      <td>2262勝1550敗</td>\n",
       "      <td>216勝189敗</td>\n",
       "    </tr>\n",
       "    <tr>\n",
       "      <th>7</th>\n",
       "      <td>フィラデルフィア・76サーズ</td>\n",
       "      <td>3</td>\n",
       "      <td>1955,1967,1983</td>\n",
       "      <td>47.0</td>\n",
       "      <td>11</td>\n",
       "      <td>6</td>\n",
       "      <td>2679勝2379敗</td>\n",
       "      <td>217勝205敗</td>\n",
       "    </tr>\n",
       "    <tr>\n",
       "      <th>8</th>\n",
       "      <td>デトロイト・ピストンズ</td>\n",
       "      <td>3</td>\n",
       "      <td>1989,1990,2004</td>\n",
       "      <td>40.0</td>\n",
       "      <td>10</td>\n",
       "      <td>5</td>\n",
       "      <td>2511勝2611敗</td>\n",
       "      <td>187勝175敗</td>\n",
       "    </tr>\n",
       "    <tr>\n",
       "      <th>9</th>\n",
       "      <td>マイアミ・ヒート</td>\n",
       "      <td>3</td>\n",
       "      <td>2006,2012,2013</td>\n",
       "      <td>17.0</td>\n",
       "      <td>7</td>\n",
       "      <td>3</td>\n",
       "      <td>1031勝971敗</td>\n",
       "      <td>103勝82敗</td>\n",
       "    </tr>\n",
       "    <tr>\n",
       "      <th>10</th>\n",
       "      <td>ニューヨーク・ニックス</td>\n",
       "      <td>2</td>\n",
       "      <td>1970,1973</td>\n",
       "      <td>42.0</td>\n",
       "      <td>8</td>\n",
       "      <td>8</td>\n",
       "      <td>2615勝2614敗</td>\n",
       "      <td>186勝189敗</td>\n",
       "    </tr>\n",
       "    <tr>\n",
       "      <th>11</th>\n",
       "      <td>ヒューストン・ロケッツ</td>\n",
       "      <td>2</td>\n",
       "      <td>1994,1995</td>\n",
       "      <td>27.0</td>\n",
       "      <td>4</td>\n",
       "      <td>2</td>\n",
       "      <td>1901勝1823敗</td>\n",
       "      <td>118勝125敗</td>\n",
       "    </tr>\n",
       "    <tr>\n",
       "      <th>12</th>\n",
       "      <td>ワシントン・ウィザーズ</td>\n",
       "      <td>1</td>\n",
       "      <td>1978</td>\n",
       "      <td>25.0</td>\n",
       "      <td>7</td>\n",
       "      <td>4</td>\n",
       "      <td>1873勝2232敗</td>\n",
       "      <td>77勝115敗</td>\n",
       "    </tr>\n",
       "    <tr>\n",
       "      <th>13</th>\n",
       "      <td>サクラメント・キングス</td>\n",
       "      <td>1</td>\n",
       "      <td>1951</td>\n",
       "      <td>29.0</td>\n",
       "      <td>5</td>\n",
       "      <td>0</td>\n",
       "      <td>2374勝2749敗</td>\n",
       "      <td>80勝107敗</td>\n",
       "    </tr>\n",
       "    <tr>\n",
       "      <th>14</th>\n",
       "      <td>アトランタ・ホークス</td>\n",
       "      <td>1</td>\n",
       "      <td>1958</td>\n",
       "      <td>42.0</td>\n",
       "      <td>14</td>\n",
       "      <td>4</td>\n",
       "      <td>2505勝2557敗</td>\n",
       "      <td>140勝185敗</td>\n",
       "    </tr>\n",
       "    <tr>\n",
       "      <th>15</th>\n",
       "      <td>ミルウォーキー・バックス</td>\n",
       "      <td>1</td>\n",
       "      <td>1971</td>\n",
       "      <td>27.0</td>\n",
       "      <td>13</td>\n",
       "      <td>2</td>\n",
       "      <td>1856勝1704敗</td>\n",
       "      <td>104勝114敗</td>\n",
       "    </tr>\n",
       "    <tr>\n",
       "      <th>16</th>\n",
       "      <td>ポートランド・トレイルブレイザーズ</td>\n",
       "      <td>1</td>\n",
       "      <td>1977</td>\n",
       "      <td>29.0</td>\n",
       "      <td>4</td>\n",
       "      <td>3</td>\n",
       "      <td>1842勝1636敗</td>\n",
       "      <td>97勝115敗</td>\n",
       "    </tr>\n",
       "    <tr>\n",
       "      <th>17</th>\n",
       "      <td>オクラホマシティ・サンダー</td>\n",
       "      <td>1</td>\n",
       "      <td>1979</td>\n",
       "      <td>26.0</td>\n",
       "      <td>7</td>\n",
       "      <td>4</td>\n",
       "      <td>1980勝1744敗</td>\n",
       "      <td>136勝135敗</td>\n",
       "    </tr>\n",
       "    <tr>\n",
       "      <th>18</th>\n",
       "      <td>ダラス・マーベリックス</td>\n",
       "      <td>1</td>\n",
       "      <td>2011</td>\n",
       "      <td>18.0</td>\n",
       "      <td>2</td>\n",
       "      <td>2</td>\n",
       "      <td>1341勝1317敗</td>\n",
       "      <td>86勝93敗</td>\n",
       "    </tr>\n",
       "    <tr>\n",
       "      <th>19</th>\n",
       "      <td>クリーブランド・キャバリアーズ</td>\n",
       "      <td>1</td>\n",
       "      <td>2016</td>\n",
       "      <td>18.0</td>\n",
       "      <td>3</td>\n",
       "      <td>1</td>\n",
       "      <td>1585勝1893敗</td>\n",
       "      <td>70勝78敗</td>\n",
       "    </tr>\n",
       "    <tr>\n",
       "      <th>20</th>\n",
       "      <td>トロント・ラプターズ</td>\n",
       "      <td>1</td>\n",
       "      <td>2019</td>\n",
       "      <td>5.0</td>\n",
       "      <td>1</td>\n",
       "      <td>0</td>\n",
       "      <td>581勝847敗</td>\n",
       "      <td>11勝20敗</td>\n",
       "    </tr>\n",
       "    <tr>\n",
       "      <th>21</th>\n",
       "      <td>フェニックス・サンズ</td>\n",
       "      <td>0</td>\n",
       "      <td>29</td>\n",
       "      <td>5.0</td>\n",
       "      <td>2</td>\n",
       "      <td>2012勝1630敗</td>\n",
       "      <td>133勝141敗</td>\n",
       "      <td>None</td>\n",
       "    </tr>\n",
       "    <tr>\n",
       "      <th>22</th>\n",
       "      <td>ユタ・ジャズ</td>\n",
       "      <td>0</td>\n",
       "      <td>25</td>\n",
       "      <td>7.0</td>\n",
       "      <td>2</td>\n",
       "      <td>1712勝1438敗</td>\n",
       "      <td>114勝127敗</td>\n",
       "      <td>None</td>\n",
       "    </tr>\n",
       "    <tr>\n",
       "      <th>23</th>\n",
       "      <td>デンバー・ナゲッツ</td>\n",
       "      <td>0</td>\n",
       "      <td>24</td>\n",
       "      <td>8.0</td>\n",
       "      <td>1</td>\n",
       "      <td>1464勝1522敗</td>\n",
       "      <td>61勝101敗</td>\n",
       "      <td>None</td>\n",
       "    </tr>\n",
       "    <tr>\n",
       "      <th>24</th>\n",
       "      <td>インディアナ・ペイサーズ</td>\n",
       "      <td>0</td>\n",
       "      <td>21</td>\n",
       "      <td>4.0</td>\n",
       "      <td>1</td>\n",
       "      <td>1467勝1518敗</td>\n",
       "      <td>99勝97敗</td>\n",
       "      <td>None</td>\n",
       "    </tr>\n",
       "    <tr>\n",
       "      <th>25</th>\n",
       "      <td>ブルックリン・ネッツ</td>\n",
       "      <td>0</td>\n",
       "      <td>17</td>\n",
       "      <td>4.0</td>\n",
       "      <td>2</td>\n",
       "      <td>1257勝1729敗</td>\n",
       "      <td>55勝69敗</td>\n",
       "      <td>None</td>\n",
       "    </tr>\n",
       "    <tr>\n",
       "      <th>26</th>\n",
       "      <td>オーランド・マジック</td>\n",
       "      <td>0</td>\n",
       "      <td>14</td>\n",
       "      <td>4.0</td>\n",
       "      <td>2</td>\n",
       "      <td>979勝941敗</td>\n",
       "      <td>57勝66敗</td>\n",
       "      <td>None</td>\n",
       "    </tr>\n",
       "    <tr>\n",
       "      <th>27</th>\n",
       "      <td>ニューオーリンズ・ホーネッツ</td>\n",
       "      <td>0</td>\n",
       "      <td>12</td>\n",
       "      <td>0.0</td>\n",
       "      <td>0</td>\n",
       "      <td>961勝1041敗</td>\n",
       "      <td>35勝49敗</td>\n",
       "      <td>None</td>\n",
       "    </tr>\n",
       "    <tr>\n",
       "      <th>28</th>\n",
       "      <td>ミネソタ・ティンバーウルブズ</td>\n",
       "      <td>0</td>\n",
       "      <td>8</td>\n",
       "      <td>1.0</td>\n",
       "      <td>0</td>\n",
       "      <td>762勝1158敗</td>\n",
       "      <td>17勝30敗</td>\n",
       "      <td>None</td>\n",
       "    </tr>\n",
       "    <tr>\n",
       "      <th>29</th>\n",
       "      <td>メンフィス・グリズリーズ</td>\n",
       "      <td>0</td>\n",
       "      <td>6</td>\n",
       "      <td>0.0</td>\n",
       "      <td>0</td>\n",
       "      <td>547勝881敗</td>\n",
       "      <td>18勝29敗</td>\n",
       "      <td>None</td>\n",
       "    </tr>\n",
       "    <tr>\n",
       "      <th>30</th>\n",
       "      <td>シャーロット・ボブキャッツ</td>\n",
       "      <td>0</td>\n",
       "      <td>1</td>\n",
       "      <td>0.0</td>\n",
       "      <td>0</td>\n",
       "      <td>250勝472敗</td>\n",
       "      <td>0勝4敗</td>\n",
       "      <td>None</td>\n",
       "    </tr>\n",
       "  </tbody>\n",
       "</table>\n",
       "</div>"
      ],
      "text/plain": [
       "                                   チーム  優勝  \\\n",
       "0                         ボストン・セルティックス  17   \n",
       "1   1969,1974,1976,1981,1984,1986,2008  51   \n",
       "2                         ロサンゼルス・レイカーズ  16   \n",
       "3        1988,2000,2001,2002,2009,2010  60   \n",
       "4                              シカゴ・ブルズ   6   \n",
       "5                     ゴールデンステート・ウォリアーズ   6   \n",
       "6                         サンアントニオ・スパーズ   5   \n",
       "7                       フィラデルフィア・76サーズ   3   \n",
       "8                          デトロイト・ピストンズ   3   \n",
       "9                             マイアミ・ヒート   3   \n",
       "10                         ニューヨーク・ニックス   2   \n",
       "11                         ヒューストン・ロケッツ   2   \n",
       "12                         ワシントン・ウィザーズ   1   \n",
       "13                         サクラメント・キングス   1   \n",
       "14                          アトランタ・ホークス   1   \n",
       "15                        ミルウォーキー・バックス   1   \n",
       "16                   ポートランド・トレイルブレイザーズ   1   \n",
       "17                       オクラホマシティ・サンダー   1   \n",
       "18                         ダラス・マーベリックス   1   \n",
       "19                     クリーブランド・キャバリアーズ   1   \n",
       "20                          トロント・ラプターズ   1   \n",
       "21                          フェニックス・サンズ   0   \n",
       "22                              ユタ・ジャズ   0   \n",
       "23                           デンバー・ナゲッツ   0   \n",
       "24                        インディアナ・ペイサーズ   0   \n",
       "25                          ブルックリン・ネッツ   0   \n",
       "26                          オーランド・マジック   0   \n",
       "27                      ニューオーリンズ・ホーネッツ   0   \n",
       "28                      ミネソタ・ティンバーウルブズ   0   \n",
       "29                        メンフィス・グリズリーズ   0   \n",
       "30                       シャーロット・ボブキャッツ   0   \n",
       "\n",
       "                                                  優勝年  プレーオフ進出        DV優勝  \\\n",
       "0   1957,1959,1960,1961,1962,1963,1964,1965,1966,1...      NaN        None   \n",
       "1                                                  26     21.0  3108勝2124敗   \n",
       "2   1949,1950,1952,1953,1954,1972,1980,1982,1985,1...      NaN        None   \n",
       "3                                                  30     31.0  3170勝1953敗   \n",
       "4                       1991,1992,1993,1996,1997,1998     32.0           7   \n",
       "5                       1947,1956,1975,2015,2017,2018     29.0           8   \n",
       "6                            1999,2003,2005,2007,2014     33.0          19   \n",
       "7                                      1955,1967,1983     47.0          11   \n",
       "8                                      1989,1990,2004     40.0          10   \n",
       "9                                      2006,2012,2013     17.0           7   \n",
       "10                                          1970,1973     42.0           8   \n",
       "11                                          1994,1995     27.0           4   \n",
       "12                                               1978     25.0           7   \n",
       "13                                               1951     29.0           5   \n",
       "14                                               1958     42.0          14   \n",
       "15                                               1971     27.0          13   \n",
       "16                                               1977     29.0           4   \n",
       "17                                               1979     26.0           7   \n",
       "18                                               2011     18.0           2   \n",
       "19                                               2016     18.0           3   \n",
       "20                                               2019      5.0           1   \n",
       "21                                                 29      5.0           2   \n",
       "22                                                 25      7.0           2   \n",
       "23                                                 24      8.0           1   \n",
       "24                                                 21      4.0           1   \n",
       "25                                                 17      4.0           2   \n",
       "26                                                 14      4.0           2   \n",
       "27                                                 12      0.0           0   \n",
       "28                                                  8      1.0           0   \n",
       "29                                                  6      0.0           0   \n",
       "30                                                  1      0.0           0   \n",
       "\n",
       "         CNF優勝      シーズン勝敗   プレーオフ勝敗  \n",
       "0         None        None      None  \n",
       "1     344勝253敗        None      None  \n",
       "2         None        None      None  \n",
       "3     440勝297敗        None      None  \n",
       "4            6  1975勝1830敗  177勝144敗  \n",
       "5            7  2482勝2866敗  110勝125敗  \n",
       "6            5  2262勝1550敗  216勝189敗  \n",
       "7            6  2679勝2379敗  217勝205敗  \n",
       "8            5  2511勝2611敗  187勝175敗  \n",
       "9            3   1031勝971敗   103勝82敗  \n",
       "10           8  2615勝2614敗  186勝189敗  \n",
       "11           2  1901勝1823敗  118勝125敗  \n",
       "12           4  1873勝2232敗   77勝115敗  \n",
       "13           0  2374勝2749敗   80勝107敗  \n",
       "14           4  2505勝2557敗  140勝185敗  \n",
       "15           2  1856勝1704敗  104勝114敗  \n",
       "16           3  1842勝1636敗   97勝115敗  \n",
       "17           4  1980勝1744敗  136勝135敗  \n",
       "18           2  1341勝1317敗    86勝93敗  \n",
       "19           1  1585勝1893敗    70勝78敗  \n",
       "20           0    581勝847敗    11勝20敗  \n",
       "21  2012勝1630敗    133勝141敗      None  \n",
       "22  1712勝1438敗    114勝127敗      None  \n",
       "23  1464勝1522敗     61勝101敗      None  \n",
       "24  1467勝1518敗      99勝97敗      None  \n",
       "25  1257勝1729敗      55勝69敗      None  \n",
       "26    979勝941敗      57勝66敗      None  \n",
       "27   961勝1041敗      35勝49敗      None  \n",
       "28   762勝1158敗      17勝30敗      None  \n",
       "29    547勝881敗      18勝29敗      None  \n",
       "30    250勝472敗        0勝4敗      None  "
      ]
     },
     "execution_count": 122,
     "metadata": {},
     "output_type": "execute_result"
    }
   ],
   "source": [
    "bb"
   ]
  },
  {
   "cell_type": "code",
   "execution_count": 141,
   "metadata": {},
   "outputs": [
    {
     "name": "stdout",
     "output_type": "stream",
     "text": [
      "1\n"
     ]
    }
   ],
   "source": [
    "##　じゃんけん\n",
    "import random\n",
    "\n",
    "# 0: ぐー 1: ちょき 2: パー\n",
    "\n",
    "a = random.randint(0,2)\n",
    "print(a)"
   ]
  },
  {
   "cell_type": "code",
   "execution_count": 247,
   "metadata": {},
   "outputs": [
    {
     "name": "stdout",
     "output_type": "stream",
     "text": [
      "小吉\n"
     ]
    }
   ],
   "source": [
    "## おみくじ\n",
    "\n",
    "a = ['大吉', '大吉', '大吉', '中吉', '末吉', '小吉', '凶']\n",
    "\n",
    "print(a[random.randint(0, len(a)-1)])"
   ]
  },
  {
   "cell_type": "code",
   "execution_count": null,
   "metadata": {},
   "outputs": [],
   "source": []
  },
  {
   "cell_type": "code",
   "execution_count": null,
   "metadata": {},
   "outputs": [],
   "source": []
  }
 ],
 "metadata": {
  "kernelspec": {
   "display_name": "Python 3",
   "language": "python",
   "name": "python3"
  },
  "language_info": {
   "codemirror_mode": {
    "name": "ipython",
    "version": 3
   },
   "file_extension": ".py",
   "mimetype": "text/x-python",
   "name": "python",
   "nbconvert_exporter": "python",
   "pygments_lexer": "ipython3",
   "version": "3.7.6"
  }
 },
 "nbformat": 4,
 "nbformat_minor": 4
}
